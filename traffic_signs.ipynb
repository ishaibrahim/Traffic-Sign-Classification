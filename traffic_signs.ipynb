{
 "cells": [
  {
   "cell_type": "code",
   "execution_count": 92,
   "metadata": {},
   "outputs": [],
   "source": [
    "%%capture output\n",
    "!pip install pandas\n",
    "!pip install matplotlib\n",
    "!pip install opencv-python\n",
    "!pip install scikit-learn scikit-image\n",
    "\n",
    "# Captured output on this cell to maintain notebook tidiness :)"
   ]
  },
  {
   "cell_type": "markdown",
   "metadata": {},
   "source": [
    "# Recognizing Traffic Signs\n",
    "\n",
    "The goal of this notebook is to process traffic sign images and classify them using machine learning."
   ]
  },
  {
   "cell_type": "markdown",
   "metadata": {},
   "source": [
    "### The Data \n",
    "The data for this project is a series of images of traffic signs, captured under different real life conditions such as normal lighting, poor lighting, obstructions and pictures of traffic signs that are far away from the camera. The pictures have been pre-processed, in that they are cropped, scaled, and loaded into a python object. They have corresponding sign labels. The pre-defined list of labels for recognition is provided as a csv file. "
   ]
  },
  {
   "cell_type": "code",
   "execution_count": 93,
   "metadata": {},
   "outputs": [],
   "source": [
    "# Unzip\n",
    "import zipfile\n",
    "data = \"data/\"\n",
    "with zipfile.ZipFile(data+\"data_1.zip\",\"r\") as zip_ref:\n",
    "    zip_ref.extractall(data)\n",
    "with zipfile.ZipFile(data+\"data_2.zip\",\"r\") as zip_ref:\n",
    "    zip_ref.extractall(data)\n",
    "with zipfile.ZipFile(data+\"data_3.zip\",\"r\") as zip_ref:\n",
    "    zip_ref.extractall(data)"
   ]
  },
  {
   "cell_type": "code",
   "execution_count": 94,
   "metadata": {},
   "outputs": [
    {
     "data": {
      "text/plain": [
       "{0: 'Speed limit (20km/h)',\n",
       " 1: 'Speed limit (30km/h)',\n",
       " 2: 'Speed limit (50km/h)',\n",
       " 3: 'Speed limit (60km/h)',\n",
       " 4: 'Speed limit (70km/h)',\n",
       " 5: 'Speed limit (80km/h)',\n",
       " 6: 'End of speed limit (80km/h)',\n",
       " 7: 'Speed limit (100km/h)',\n",
       " 8: 'Speed limit (120km/h)',\n",
       " 9: 'No passing',\n",
       " 10: 'No passing for vehicles over 3.5 metric tons',\n",
       " 11: 'Right-of-way at the next intersection',\n",
       " 12: 'Priority road',\n",
       " 13: 'Yield',\n",
       " 14: 'Stop',\n",
       " 15: 'No vehicles',\n",
       " 16: 'Vehicles over 3.5 metric tons prohibited',\n",
       " 17: 'No entry',\n",
       " 18: 'General caution',\n",
       " 19: 'Dangerous curve to the left',\n",
       " 20: 'Dangerous curve to the right',\n",
       " 21: 'Double curve',\n",
       " 22: 'Bumpy road',\n",
       " 23: 'Slippery road',\n",
       " 24: 'Road narrows on the right',\n",
       " 25: 'Road work',\n",
       " 26: 'Traffic signals',\n",
       " 27: 'Pedestrians',\n",
       " 28: 'Children crossing',\n",
       " 29: 'Bicycles crossing',\n",
       " 30: 'Beware of ice/snow',\n",
       " 31: 'Wild animals crossing',\n",
       " 32: 'End of all speed and passing limits',\n",
       " 33: 'Turn right ahead',\n",
       " 34: 'Turn left ahead',\n",
       " 35: 'Ahead only',\n",
       " 36: 'Go straight or right',\n",
       " 37: 'Go straight or left',\n",
       " 38: 'Keep right',\n",
       " 39: 'Keep left',\n",
       " 40: 'Roundabout mandatory',\n",
       " 41: 'End of no passing',\n",
       " 42: 'End of no passing by vehicles over 3.5 metric tons'}"
      ]
     },
     "execution_count": 94,
     "metadata": {},
     "output_type": "execute_result"
    }
   ],
   "source": [
    "# Load sign names\n",
    "\n",
    "import pandas as pd\n",
    "df = pd.read_csv(\"./data/signnames.csv\")\n",
    "signnames = pd.Series(df.SignName.values,index=df.ClassId).to_dict()\n",
    "signnames"
   ]
  },
  {
   "cell_type": "code",
   "execution_count": 95,
   "metadata": {},
   "outputs": [],
   "source": [
    "# Load images\n",
    "import pickle\n",
    "#load pickle for training data\n",
    "signimages = pickle.load( open( data+\"train.p\", \"rb\" ) )\n",
    "\n",
    "#load pickle for validation\n",
    "signimages_validation = pickle.load( open( data+\"valid.p\", \"rb\" ) )\n",
    "\n",
    "#load pickle for testing\n",
    "signimages_test = pickle.load( open( data+\"test.p\", \"rb\" ) )"
   ]
  },
  {
   "cell_type": "markdown",
   "metadata": {},
   "source": [
    "### Exploring The Data\n",
    "\n",
    "To get an idea of what the pictures of traffic signs in the dataset look like, we can preview any image in the training data, as the pickle for the training data is already loaded above. Exploring the structure of the data provided tells us that the pictures of traffic signs correspond to the dictionary key \"features\". \n",
    "\n",
    "Previewing an image at random can therefore be done by calling on a picture by its positon inside the \"features\" key. Then we look at the corresponding sign name, and the indexing within the image that carries matrixes for the RGB values that correspond with each pixel. Exploring the indexing is not a neccessary step, but it is preferred as understanding the data in detail is useful to determine which features can be easily extracted from the pictures. "
   ]
  },
  {
   "cell_type": "code",
   "execution_count": 96,
   "metadata": {},
   "outputs": [
    {
     "name": "stdout",
     "output_type": "stream",
     "text": [
      "dict_keys(['coords', 'labels', 'features', 'sizes'])\n"
     ]
    }
   ],
   "source": [
    "print(signimages.keys())"
   ]
  },
  {
   "cell_type": "code",
   "execution_count": 97,
   "metadata": {},
   "outputs": [
    {
     "name": "stdout",
     "output_type": "stream",
     "text": [
      "The image shows a General caution sign.\n"
     ]
    },
    {
     "data": {
      "image/png": "[encoded data removed]",
      "text/plain": [
       "<Figure size 640x480 with 1 Axes>"
      ]
     },
     "metadata": {},
     "output_type": "display_data"
    }
   ],
   "source": [
    "# Preview image\n",
    "import matplotlib.pyplot as plt\n",
    "import numpy as np\n",
    "#import cv2\n",
    "\n",
    "inx = 20500\n",
    "\n",
    "#inserting a pixel in this image to check which way the pixels are labelled\n",
    "#signimages['features'][inx][5][20] = [0,255,0]\n",
    "\n",
    "\n",
    "plt.imshow(signimages['features'][inx])\n",
    "print(f\"The image shows a {signnames[signimages['labels'][inx]]} sign.\")\n"
   ]
  },
  {
   "cell_type": "code",
   "execution_count": 98,
   "metadata": {},
   "outputs": [
    {
     "name": "stdout",
     "output_type": "stream",
     "text": [
      "[110  27  24]\n"
     ]
    }
   ],
   "source": [
    "# Printing rgb values for a pixel in the above picture. This is to help me identify the indexing in the image object.\n",
    "print(signimages['features'][inx][27][5])"
   ]
  },
  {
   "cell_type": "markdown",
   "metadata": {},
   "source": [
    "### Feature Extraction\n",
    "\n",
    "Based on the above exploration of the data, there are a few possible features to be extracted. \n",
    "\n",
    "1. Shape: A lot of the signs have distinct shapes like triangles and circles. \n",
    "2. Color: Most signs have distinct solid colors, often blue, white, black, and red.\n",
    "\n",
    "Since the goal here is to build an accurate classifier model with the best features, we have a few choices for feature extraction. A feature descriptor that considers both shape and edge information as well as color information is a HOG (Histogram of Oriented Gradients). \n",
    "\n",
    "The feature data needs to be included in the dataframes for training, validation and testing data, so the best method to do so is to create a function that takes in the python object with the source data and some HOG parameters.By taking the HOG parameters as arguments they can be easily adjusted o find the amunt of data features that can give the best model.\n",
    "\n",
    "For a Histogram of Oriented Gradients, the parameters I find important are:\n",
    "\n",
    "1. The amount of pixels in a cell block- less pixels per cell block means more data generated- more data is not necessarily always the best approach, but the pictures in this dataset are quite small to begin with, so less pixels per cell-block is the better approach. \n",
    "2. The number of orientations- simply put, the amount of bins for the histogram that measure the direction of the gradient. \n"
   ]
  },
  {
   "cell_type": "code",
   "execution_count": 99,
   "metadata": {},
   "outputs": [],
   "source": [
    "#____________________________________________________________\n",
    "\n",
    "############# Using HOG to extract features #################\n",
    "#____________________________________________________________\n",
    "\n",
    "from skimage.feature import hog\n",
    "\n",
    "#create a function to generate a dataframe \n",
    "def generate_dataframe(imgs, \n",
    "                       orientations = 8, \n",
    "                       pixels_per_cell = (4,4)): #orientatins and pixels per cell given a default value\n",
    "    hog_data = []\n",
    "    for inx in range(len(imgs[\"features\"])):\n",
    "        image = imgs [\"features\"][inx]\n",
    "        hog_description = hog(image, \n",
    "                              orientations = orientations, \n",
    "                              pixels_per_cell= pixels_per_cell, \n",
    "                              cells_per_block = (2, 2), \n",
    "                              channel_axis= 2)  #why 2? because colors are in the third index\n",
    "        label = np. array([imgs[\"labels\"][inx]])\n",
    "        hog_data.append(np.concatenate((label, hog_description)))\n",
    "\n",
    "#convert list of rows in dataframe \n",
    "    ret_df = pd.DataFrame(hog_data)\n",
    "    return ret_df.rename(columns = {0:\"target\"})"
   ]
  },
  {
   "cell_type": "markdown",
   "metadata": {},
   "source": [
    "To make this code flexible and to make it easier to test out other parameter combinations, I write it so all the processing is done dynamically based on the input list of parameters"
   ]
  },
  {
   "cell_type": "code",
   "execution_count": 100,
   "metadata": {},
   "outputs": [],
   "source": [
    "#HOG parameter combinations to be tested\n",
    "list_of_parameters = [\n",
    "    { \"orientations\": 8, \"pixels_per_cell\": (4,4) },\n",
    "    { \"orientations\": 16, \"pixels_per_cell\": (4,4) },\n",
    "    { \"orientations\": 8, \"pixels_per_cell\": (8,8) },\n",
    "    { \"orientations\": 16, \"pixels_per_cell\": (8,8) }\n",
    "]\n",
    "\n",
    "#list comprehension to create list of dataframes for train/validation/test for HOG parameter combinations\n",
    "train_dataframes = [ generate_dataframe(signimages, params[\"orientations\"], params[\"pixels_per_cell\"]) for params in list_of_parameters ]\n",
    "\n",
    "validation_dataframes = [ generate_dataframe(signimages_validation, params[\"orientations\"], params[\"pixels_per_cell\"]) for params in list_of_parameters ]\n",
    "\n",
    "test_dataframes = [ generate_dataframe(signimages_test, params[\"orientations\"], params[\"pixels_per_cell\"]) for params in list_of_parameters ]\n",
    "\n"
   ]
  },
  {
   "cell_type": "code",
   "execution_count": 101,
   "metadata": {},
   "outputs": [],
   "source": [
    "# Creating X Y split for train,validation and test dataframes.\n",
    "\n",
    "train_xy_dataframes = [ (train_dataframe.drop(['target'], axis=1), train_dataframe['target']) for train_dataframe in train_dataframes ]\n",
    "\n",
    "validate_xy_dataframes = [ (validate_dataframe.drop(['target'], axis=1), validate_dataframe['target']) for validate_dataframe in validation_dataframes ]\n",
    "\n",
    "test_xy_dataframes = [ (test_dataframe.drop(['target'], axis=1), test_dataframe['target']) for test_dataframe in test_dataframes ]"
   ]
  },
  {
   "cell_type": "markdown",
   "metadata": {},
   "source": [
    "### Running a Classifier \n",
    "\n",
    "A Support Vector Classifier is a good choice for this dataset, as it performs well in handling complex boundaries between classes of items, especially when they have similar shapes and colors but different symbols, as is usually the case in traffic signs. Below we train a few models on the datasets produced from changing different HOG parameters to determine the best accuracy level and the best accuracy retention when the models are tested on new data. "
   ]
  },
  {
   "cell_type": "code",
   "execution_count": 102,
   "metadata": {},
   "outputs": [],
   "source": [
    "#____________________________________________________________\n",
    "\n",
    "########### Using Support Vector Classifier ###############\n",
    "#____________________________________________________________\n",
    "\n",
    "from sklearn.svm import SVC\n",
    "from sklearn.metrics import accuracy_score \n",
    "\n",
    "# Creating a list of models trained on the list of X and Y data we just made in the above cell\n",
    "\n",
    "svcs = []\n",
    "for train_x, train_y in train_xy_dataframes:\n",
    "    svc = SVC(kernel='linear')\n",
    "    svc.fit(train_x, train_y)\n",
    "    svcs.append(svc)"
   ]
  },
  {
   "cell_type": "code",
   "execution_count": 103,
   "metadata": {},
   "outputs": [],
   "source": [
    "#Using the list of SVC models based on the different HOG parameters to predict the traffic sign labels on validation data\n",
    "validation_accuracy_scores = []\n",
    "\n",
    "for (validate_x, validate_y), svc in zip(validate_xy_dataframes, svcs):\n",
    "    y_pred = svc.predict(validate_x)\n",
    "    accuracy = accuracy_score(validate_y, y_pred)\n",
    "    validation_accuracy_scores.append(accuracy)\n",
    "\n"
   ]
  },
  {
   "cell_type": "code",
   "execution_count": 104,
   "metadata": {},
   "outputs": [
    {
     "name": "stdout",
     "output_type": "stream",
     "text": [
      "SVC model on validation data with HOG_8_(4, 4) has an accuracy score of 90.02% \n",
      "SVC model on validation data with HOG_16_(4, 4) has an accuracy score of 90.14% \n",
      "SVC model on validation data with HOG_8_(8, 8) has an accuracy score of 78.84% \n",
      "SVC model on validation data with HOG_16_(8, 8) has an accuracy score of 80.57% \n"
     ]
    }
   ],
   "source": [
    "\n",
    "dataframe_names = [ f\"HOG_{params['orientations']}_{params['pixels_per_cell']}\" for params in list_of_parameters ] \n",
    "\n",
    "#printing SVC model prediction accuracy for each model type\n",
    "for score, name in zip(validation_accuracy_scores, dataframe_names):\n",
    "    print(f\"SVC model on validation data with {name} has an accuracy score of {score *100:.2f}% \")"
   ]
  },
  {
   "cell_type": "code",
   "execution_count": 105,
   "metadata": {},
   "outputs": [],
   "source": [
    "#Using the list of SVC models based on the different HOG parameters to predict the traffic sign labels on test data\n",
    "test_accuracy_scores = []\n",
    "\n",
    "for (test_x, test_y), svc in zip(test_xy_dataframes, svcs):\n",
    "    y_pred = svc.predict(test_x)\n",
    "    accuracy = accuracy_score(test_y, y_pred)\n",
    "    test_accuracy_scores.append(accuracy)\n"
   ]
  },
  {
   "cell_type": "code",
   "execution_count": 106,
   "metadata": {},
   "outputs": [
    {
     "name": "stdout",
     "output_type": "stream",
     "text": [
      "SVC model on testing data with HOG_8_(4, 4) features has an accuracy score of 88.51% \n",
      "SVC model on testing data with HOG_16_(4, 4) features has an accuracy score of 88.03% \n",
      "SVC model on testing data with HOG_8_(8, 8) features has an accuracy score of 78.11% \n",
      "SVC model on testing data with HOG_16_(8, 8) features has an accuracy score of 78.86% \n"
     ]
    }
   ],
   "source": [
    "#printing accuracy score of each model on testing data\n",
    "for score, name in zip(test_accuracy_scores, dataframe_names):\n",
    "    print(f\"SVC model on testing data with {name} features has an accuracy score of {score *100:.2f}% \")"
   ]
  },
  {
   "cell_type": "markdown",
   "metadata": {},
   "source": [
    "### Conclusion\n",
    "\n",
    "A Linear SVC model run with more feature data extracted from image pixels produce a higher accuracy This corresponds to the Pixels-per-Cell parameter in the HOG feature extraction. A small square of Pixels-per-Cell results in more information extracted from the whole image, as more pixels are individually assessed for feature information.\n",
    "\n",
    "Increasing the Orientation parameter in feature extraction, which corresponds to information about the direction of the gradients has less impact on the accuracy of the model. The worst model performance is from the model that recieved the least amount of features in total. \n",
    "\n",
    "### Best Choice: Model A\n",
    "Model A (Linear SVC, HOG: 8 Orientations, Pixels per Cell 4x4) has the highest prediction accuracy and a low generalization gap compared to Model B, which has a marginally better accuracy score but a far worse generalization gap, which means it could perform better in future use as well when exposed to further unseen data.\n",
    "\n",
    "| Model  | Test Accuracy (%) | Unseen Dataset Accuracy (%) | Generalization Gap |\n",
    "|--------|-----------------|-----------------------------|---------------------|\n",
    "| **A**  | 90.02          | 88.51                        | **1.51**           |\n",
    "| **B**  | 90.14          | 88.03                        | **2.11**           |\n",
    "| **C**  | 78.84          | 78.11                        | **0.73**           |\n",
    "| **D**  | 80.57          | 78.86                        | **1.71**           |\n",
    "\n",
    "\n",
    "\n"
   ]
  }
 ],
 "metadata": {
  "kernelspec": {
   "display_name": ".venv",
   "language": "python",
   "name": "python3"
  },
  "language_info": {
   "codemirror_mode": {
    "name": "ipython",
    "version": 3
   },
   "file_extension": ".py",
   "mimetype": "text/x-python",
   "name": "python",
   "nbconvert_exporter": "python",
   "pygments_lexer": "ipython3",
   "version": "3.9.7"
  }
 },
 "nbformat": 4,
 "nbformat_minor": 2
}
